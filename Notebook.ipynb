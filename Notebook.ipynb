{
  "nbformat": 4,
  "nbformat_minor": 0,
  "metadata": {
    "colab": {
      "name": "Untitled0.ipynb",
      "provenance": [],
      "authorship_tag": "ABX9TyNmSTxgFSB5e8c/7xLOkm13",
      "include_colab_link": true
    },
    "kernelspec": {
      "name": "python3",
      "display_name": "Python 3"
    }
  },
  "cells": [
    {
      "cell_type": "markdown",
      "metadata": {
        "colab_type": "text",
        "id": "view-in-github"
      },
      "source": [
        "<a href=\"https://colab.research.google.com/github/ErikSeguinte/DataOfIceAndFire/blob/master/Notebook.ipynb\" target=\"_parent\"><img src=\"https://colab.research.google.com/assets/colab-badge.svg\" alt=\"Open In Colab\"/></a>"
      ]
    },
    {
      "cell_type": "code",
      "execution_count": null,
      "metadata": {},
      "outputs": [],
      "source": [
        "import requests, json\n",
        "import pandas as pd\n",
        "import cufflinks as cufflinks\n",
        "from IPython.display import display, HTML\n"
      ]
    },
    {
      "cell_type": "code",
      "execution_count": 2,
      "metadata": {},
      "outputs": [],
      "source": [
        "asoiaf = pd.read_json('books.jl', 'records', lines = True)"
      ]
    },
    {
      "cell_type": "code",
      "execution_count": 3,
      "metadata": {},
      "outputs": [
        {
          "data": {
            "text/html": "<div>\n<style scoped>\n    .dataframe tbody tr th:only-of-type {\n        vertical-align: middle;\n    }\n\n    .dataframe tbody tr th {\n        vertical-align: top;\n    }\n\n    .dataframe thead th {\n        text-align: right;\n    }\n</style>\n<table border=\"1\" class=\"dataframe\">\n  <thead>\n    <tr style=\"text-align: right;\">\n      <th></th>\n      <th>title</th>\n      <th>chapter</th>\n      <th>score</th>\n    </tr>\n  </thead>\n  <tbody>\n    <tr>\n      <th>0</th>\n      <td>A Dance with Dragons</td>\n      <td>ADWD 1: Prologue</td>\n      <td>Score: 8.09</td>\n    </tr>\n    <tr>\n      <th>1</th>\n      <td>A Dance with Dragons</td>\n      <td>ADWD 2: Tyrion I</td>\n      <td>Score: 8.01</td>\n    </tr>\n    <tr>\n      <th>2</th>\n      <td>A Dance with Dragons</td>\n      <td>ADWD 3: Daenerys I</td>\n      <td>Score: 7.25</td>\n    </tr>\n    <tr>\n      <th>3</th>\n      <td>A Dance with Dragons</td>\n      <td>ADWD 4: Jon I</td>\n      <td>Score: 8.12</td>\n    </tr>\n    <tr>\n      <th>4</th>\n      <td>A Dance with Dragons</td>\n      <td>ADWD 5: Bran I</td>\n      <td>Score: 8.14</td>\n    </tr>\n    <tr>\n      <th>...</th>\n      <td>...</td>\n      <td>...</td>\n      <td>...</td>\n    </tr>\n    <tr>\n      <th>339</th>\n      <td>A Game of Thrones</td>\n      <td>AGOT 69: Daenerys IX</td>\n      <td>Score: 7.60</td>\n    </tr>\n    <tr>\n      <th>340</th>\n      <td>A Game of Thrones</td>\n      <td>AGOT 70: Tyrion IX</td>\n      <td>Score: 8.42</td>\n    </tr>\n    <tr>\n      <th>341</th>\n      <td>A Game of Thrones</td>\n      <td>AGOT 71: Jon IX</td>\n      <td>Score: 8.25</td>\n    </tr>\n    <tr>\n      <th>342</th>\n      <td>A Game of Thrones</td>\n      <td>AGOT 72: Catelyn XI</td>\n      <td>Score: 8.63</td>\n    </tr>\n    <tr>\n      <th>343</th>\n      <td>A Game of Thrones</td>\n      <td>AGOT 73: Daenerys X</td>\n      <td>Score: 9.09</td>\n    </tr>\n  </tbody>\n</table>\n<p>344 rows × 3 columns</p>\n</div>",
            "text/plain": "                    title               chapter        score\n0    A Dance with Dragons      ADWD 1: Prologue  Score: 8.09\n1    A Dance with Dragons      ADWD 2: Tyrion I  Score: 8.01\n2    A Dance with Dragons    ADWD 3: Daenerys I  Score: 7.25\n3    A Dance with Dragons         ADWD 4: Jon I  Score: 8.12\n4    A Dance with Dragons        ADWD 5: Bran I  Score: 8.14\n..                    ...                   ...          ...\n339     A Game of Thrones  AGOT 69: Daenerys IX  Score: 7.60\n340     A Game of Thrones    AGOT 70: Tyrion IX  Score: 8.42\n341     A Game of Thrones       AGOT 71: Jon IX  Score: 8.25\n342     A Game of Thrones   AGOT 72: Catelyn XI  Score: 8.63\n343     A Game of Thrones   AGOT 73: Daenerys X  Score: 9.09\n\n[344 rows x 3 columns]"
          },
          "execution_count": 3,
          "metadata": {},
          "output_type": "execute_result"
        }
      ],
      "source": [
        "asoiaf"
      ]
    },
    {
      "cell_type": "code",
      "execution_count": 19,
      "metadata": {},
      "outputs": [],
      "source": [
        "asoiaf[['pov', 'number']] =  asoiaf['chapter'].str.rsplit(': ').str[-1].str.split(\" \", expand=True).iloc[:,0:2]"
      ]
    },
    {
      "cell_type": "code",
      "execution_count": 20,
      "metadata": {},
      "outputs": [
        {
          "data": {
            "text/html": "<div>\n<style scoped>\n    .dataframe tbody tr th:only-of-type {\n        vertical-align: middle;\n    }\n\n    .dataframe tbody tr th {\n        vertical-align: top;\n    }\n\n    .dataframe thead th {\n        text-align: right;\n    }\n</style>\n<table border=\"1\" class=\"dataframe\">\n  <thead>\n    <tr style=\"text-align: right;\">\n      <th></th>\n      <th>title</th>\n      <th>chapter</th>\n      <th>score</th>\n      <th>pov</th>\n      <th>number</th>\n    </tr>\n  </thead>\n  <tbody>\n    <tr>\n      <th>0</th>\n      <td>A Dance with Dragons</td>\n      <td>ADWD 1: Prologue</td>\n      <td>Score: 8.09</td>\n      <td>Prologue</td>\n      <td>None</td>\n    </tr>\n    <tr>\n      <th>1</th>\n      <td>A Dance with Dragons</td>\n      <td>ADWD 2: Tyrion I</td>\n      <td>Score: 8.01</td>\n      <td>Tyrion</td>\n      <td>I</td>\n    </tr>\n    <tr>\n      <th>2</th>\n      <td>A Dance with Dragons</td>\n      <td>ADWD 3: Daenerys I</td>\n      <td>Score: 7.25</td>\n      <td>Daenerys</td>\n      <td>I</td>\n    </tr>\n    <tr>\n      <th>3</th>\n      <td>A Dance with Dragons</td>\n      <td>ADWD 4: Jon I</td>\n      <td>Score: 8.12</td>\n      <td>Jon</td>\n      <td>I</td>\n    </tr>\n    <tr>\n      <th>4</th>\n      <td>A Dance with Dragons</td>\n      <td>ADWD 5: Bran I</td>\n      <td>Score: 8.14</td>\n      <td>Bran</td>\n      <td>I</td>\n    </tr>\n    <tr>\n      <th>...</th>\n      <td>...</td>\n      <td>...</td>\n      <td>...</td>\n      <td>...</td>\n      <td>...</td>\n    </tr>\n    <tr>\n      <th>339</th>\n      <td>A Game of Thrones</td>\n      <td>AGOT 69: Daenerys IX</td>\n      <td>Score: 7.60</td>\n      <td>Daenerys</td>\n      <td>IX</td>\n    </tr>\n    <tr>\n      <th>340</th>\n      <td>A Game of Thrones</td>\n      <td>AGOT 70: Tyrion IX</td>\n      <td>Score: 8.42</td>\n      <td>Tyrion</td>\n      <td>IX</td>\n    </tr>\n    <tr>\n      <th>341</th>\n      <td>A Game of Thrones</td>\n      <td>AGOT 71: Jon IX</td>\n      <td>Score: 8.25</td>\n      <td>Jon</td>\n      <td>IX</td>\n    </tr>\n    <tr>\n      <th>342</th>\n      <td>A Game of Thrones</td>\n      <td>AGOT 72: Catelyn XI</td>\n      <td>Score: 8.63</td>\n      <td>Catelyn</td>\n      <td>XI</td>\n    </tr>\n    <tr>\n      <th>343</th>\n      <td>A Game of Thrones</td>\n      <td>AGOT 73: Daenerys X</td>\n      <td>Score: 9.09</td>\n      <td>Daenerys</td>\n      <td>X</td>\n    </tr>\n  </tbody>\n</table>\n<p>344 rows × 5 columns</p>\n</div>",
            "text/plain": "                    title               chapter        score       pov number\n0    A Dance with Dragons      ADWD 1: Prologue  Score: 8.09  Prologue   None\n1    A Dance with Dragons      ADWD 2: Tyrion I  Score: 8.01    Tyrion      I\n2    A Dance with Dragons    ADWD 3: Daenerys I  Score: 7.25  Daenerys      I\n3    A Dance with Dragons         ADWD 4: Jon I  Score: 8.12       Jon      I\n4    A Dance with Dragons        ADWD 5: Bran I  Score: 8.14      Bran      I\n..                    ...                   ...          ...       ...    ...\n339     A Game of Thrones  AGOT 69: Daenerys IX  Score: 7.60  Daenerys     IX\n340     A Game of Thrones    AGOT 70: Tyrion IX  Score: 8.42    Tyrion     IX\n341     A Game of Thrones       AGOT 71: Jon IX  Score: 8.25       Jon     IX\n342     A Game of Thrones   AGOT 72: Catelyn XI  Score: 8.63   Catelyn     XI\n343     A Game of Thrones   AGOT 73: Daenerys X  Score: 9.09  Daenerys      X\n\n[344 rows x 5 columns]"
          },
          "execution_count": 20,
          "metadata": {},
          "output_type": "execute_result"
        }
      ],
      "source": [
        "asoiaf"
      ]
    },
    {
      "cell_type": "code",
      "execution_count": 27,
      "metadata": {},
      "outputs": [],
      "source": [
        "asoiaf['pov'].iplot(kind='bar')"
      ]
    },
    {
      "cell_type": "code",
      "execution_count": null,
      "metadata": {},
      "outputs": [],
      "source": []
    }
  ]
}